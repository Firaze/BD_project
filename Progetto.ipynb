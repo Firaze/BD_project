{
 "cells": [
  {
   "cell_type": "code",
   "execution_count": 1,
   "id": "0c5bbd89",
   "metadata": {},
   "outputs": [
    {
     "data": {
      "application/vnd.jupyter.widget-view+json": {
       "model_id": "6acf55b02a064f1aad86034eb7ca20bc",
       "version_major": 2,
       "version_minor": 0
      },
      "text/plain": [
       "HTML(value='<style>.container { width:100% !important; }</style>')"
      ]
     },
     "metadata": {},
     "output_type": "display_data"
    }
   ],
   "source": [
    "from functions import *\n",
    "from ipywidgets import HBox, HTML, Dropdown, Label, Layout,Image\n",
    "import tkinter as tk\n",
    "from IPython.display import display, Markdown, clear_output, IFrame,Javascript\n",
    "from pyvis.network import Network\n",
    "pathways_name=pd.read_csv(\"data/pathways.tsv\", sep='\\t')[\"pathway_name\"]\n",
    "last_selection=pathways_name\n",
    "display(HTML(\"<style>.container { width:100% !important; }</style>\"))\n"
   ]
  },
  {
   "cell_type": "code",
   "execution_count": 2,
   "id": "3ff0e4fb",
   "metadata": {},
   "outputs": [
    {
     "data": {
      "application/vnd.jupyter.widget-view+json": {
       "model_id": "aef987d7812747cb8846dbaccfd7eef4",
       "version_major": 2,
       "version_minor": 0
      },
      "text/plain": [
       "HTML(value='<style>.left-spacing-class {margin-left: 20px; color:blac; margin-right:20px}</style>')"
      ]
     },
     "metadata": {},
     "output_type": "display_data"
    },
    {
     "data": {
      "application/vnd.jupyter.widget-view+json": {
       "model_id": "9105636f44d64cfe8ec888b3731547f7",
       "version_major": 2,
       "version_minor": 0
      },
      "text/plain": [
       "HBox(children=(Dropdown(description='Pathway:', index=25, options=('Oxidative phosphorylation', 'Synthesis and…"
      ]
     },
     "metadata": {},
     "output_type": "display_data"
    }
   ],
   "source": [
    "display(HTML(\"<style>.left-spacing-class {margin-left: 20px; color:blac; margin-right:20px}</style>\"))\n",
    "text=Label(value=\"\")\n",
    "text.add_class(\"left-spacing-class\")\n",
    "menu = Dropdown(\n",
    "       options=list(pathways_name.values),\n",
    "       value=list(pathways_name.values)[25],\n",
    "       description='Pathway:')\n",
    "sidebyside=HBox([menu, HTML('''<script> </script> <form action=\"javascript:IPython.notebook.execute_cells([2])\"><input type=\"submit\" id=\"toggleButton\" value=\"Run\"></form>'''),text])\n",
    "\n",
    "display(sidebyside)"
   ]
  },
  {
   "cell_type": "code",
   "execution_count": 5,
   "id": "c25623e8-fa3f-44ed-b7a8-c69fd36ea737",
   "metadata": {},
   "outputs": [
    {
     "ename": "KeyError",
     "evalue": "'51129,6256'",
     "output_type": "error",
     "traceback": [
      "\u001b[1;31m---------------------------------------------------------------------------\u001b[0m",
      "\u001b[1;31mKeyError\u001b[0m                                  Traceback (most recent call last)",
      "\u001b[1;32m<ipython-input-5-b1ab0b45cfd5>\u001b[0m in \u001b[0;36m<module>\u001b[1;34m\u001b[0m\n\u001b[0;32m     65\u001b[0m                     \u001b[0mcolor\u001b[0m\u001b[1;33m=\u001b[0m\u001b[1;34m\"red\"\u001b[0m\u001b[1;33m\u001b[0m\u001b[1;33m\u001b[0m\u001b[0m\n\u001b[0;32m     66\u001b[0m                     \u001b[0msize\u001b[0m\u001b[1;33m=\u001b[0m\u001b[1;36m10\u001b[0m\u001b[1;33m\u001b[0m\u001b[1;33m\u001b[0m\u001b[0m\n\u001b[1;32m---> 67\u001b[1;33m                     \u001b[0mvalue\u001b[0m\u001b[1;33m+=\u001b[0m\u001b[1;34m\", significativity:  \"\u001b[0m\u001b[1;33m+\u001b[0m\u001b[0mstr\u001b[0m\u001b[1;33m(\u001b[0m\u001b[0msignify_values\u001b[0m\u001b[1;33m[\u001b[0m\u001b[0mstr\u001b[0m\u001b[1;33m(\u001b[0m\u001b[0minv_nodes_renamed\u001b[0m\u001b[1;33m[\u001b[0m\u001b[0mtriad\u001b[0m\u001b[1;33m[\u001b[0m\u001b[0mj\u001b[0m\u001b[1;33m]\u001b[0m\u001b[1;33m]\u001b[0m\u001b[1;33m)\u001b[0m\u001b[1;33m+\u001b[0m\u001b[1;34m\",\"\u001b[0m\u001b[1;33m+\u001b[0m\u001b[0mstr\u001b[0m\u001b[1;33m(\u001b[0m\u001b[0minv_nodes_renamed\u001b[0m\u001b[1;33m[\u001b[0m\u001b[0mtriad\u001b[0m\u001b[1;33m[\u001b[0m\u001b[0mi\u001b[0m\u001b[1;33m]\u001b[0m\u001b[1;33m]\u001b[0m\u001b[1;33m)\u001b[0m\u001b[1;33m]\u001b[0m\u001b[1;33m)\u001b[0m\u001b[1;33m\u001b[0m\u001b[1;33m\u001b[0m\u001b[0m\n\u001b[0m\u001b[0;32m     68\u001b[0m                 \u001b[1;32melse\u001b[0m\u001b[1;33m:\u001b[0m\u001b[1;33m\u001b[0m\u001b[1;33m\u001b[0m\u001b[0m\n\u001b[0;32m     69\u001b[0m                     \u001b[0mcolor\u001b[0m\u001b[1;33m=\u001b[0m\u001b[1;34m\"green\"\u001b[0m\u001b[1;33m\u001b[0m\u001b[1;33m\u001b[0m\u001b[0m\n",
      "\u001b[1;31mKeyError\u001b[0m: '51129,6256'"
     ]
    }
   ],
   "source": [
    "skip_calcs=False\n",
    "selection=menu.value\n",
    "pathway_edges=read_pathway(selection)\n",
    "if (len(pathway_edges)==0):\n",
    "    selection=last_selection\n",
    "    skip_calcs=True\n",
    "    st.error(\"Edges not found, try another pathway!\")\n",
    "else:\n",
    "    skip_calcs=False\n",
    "    last_selection=selection\n",
    "    pathway_edges=read_pathway(selection)\n",
    "    adj_matrix,nodes_renamed,inv_nodes_renamed=build_adj(pathway_edges)\n",
    "    G = nx.from_numpy_matrix(adj_matrix)\n",
    "    triad_cliques=get_triad(G)\n",
    "    weighted_edges=calculate_weighted_edges(triad_cliques, adj_matrix,inv_nodes_renamed)\n",
    "    to_remove=[]\n",
    "    signify_values={}\n",
    "    essential_edges=[]\n",
    "    for x in weighted_edges.items():\n",
    "        zeros=0\n",
    "        ones=0\n",
    "        minus=0\n",
    "        for z in x[1]:\n",
    "            if (z[1]==0):\n",
    "                zeros+=1\n",
    "            elif (z[1]==1):\n",
    "                ones+=1\n",
    "            else:\n",
    "                minus+=1\n",
    "        if (ones==0):\n",
    "            if (minus==0):\n",
    "                to_remove.append(x[0])\n",
    "            else:\n",
    "                m=(zeros+minus)/2\n",
    "                if ((minus+zeros)/(zeros*minus+1)>=((minus+zeros)/((m+1)*(m-1)+1))):\n",
    "                    to_remove.append(x[0])\n",
    "        else:\n",
    "            essential_edges.append(x[0])\n",
    "        if (ones==0):\n",
    "            signify_values[x[0]]=round((minus+zeros)/(zeros*minus+1),2)\n",
    "        else:\n",
    "            signify_values[x[0]]=0\n",
    "\n",
    "    relabel={}\n",
    "    for e,node in enumerate( G.nodes()):\n",
    "        relabel[e]=str(inv_nodes_renamed[node])\n",
    "    net=Network(height=\"825px\",notebook=True,directed=True,width=\"1800px\", bgcolor='#222222', font_color='white')\n",
    "    for i,node in relabel.items():\n",
    "        net.add_node(str(node))\n",
    "\n",
    "    for edge in pathway_edges.values:\n",
    "            if(edge[2]==-1):\n",
    "                net.add_edge(str(edge[0]), str(edge[1]), color=\"yellow\")\n",
    "            else:\n",
    "                net.add_edge(str(edge[0]), str(edge[1]))\n",
    "    for triad in triad_cliques:\n",
    "        for i,x in enumerate(triad):\n",
    "            for j,y in enumerate(triad):\n",
    "                value=\"\"\n",
    "                isessential=\"\"\n",
    "                weight=pathway_edges[(pathway_edges[0]==inv_nodes_renamed[triad[i]]) & (pathway_edges[1]==inv_nodes_renamed[triad[j]])]\n",
    "                if (weight.empty):\n",
    "                    continue\n",
    "                if ((str(inv_nodes_renamed[triad[i]])+\",\"+str(inv_nodes_renamed[triad[j]])) in to_remove) or ((str(inv_nodes_renamed[triad[j]])+\",\"+str(inv_nodes_renamed[triad[i]])) in to_remove):                    \n",
    "                    color=\"red\"\n",
    "                    size=10\n",
    "                    value+=\", significativity:  \"+str(signify_values[str(inv_nodes_renamed[triad[j]])+\",\"+str(inv_nodes_renamed[triad[i]])])\n",
    "                else:\n",
    "                    color=\"green\"\n",
    "                    size=3\n",
    "                    value+=\", significativity:  \"+str(signify_values[str(inv_nodes_renamed[triad[j]])+\",\"+str(inv_nodes_renamed[triad[i]])])\n",
    "                if ((str(inv_nodes_renamed[triad[i]])+\",\"+str(inv_nodes_renamed[triad[j]])) in essential_edges) or ((str(inv_nodes_renamed[triad[j]])+\",\"+str(inv_nodes_renamed[triad[i]])) in essential_edges):\n",
    "                    isessential=\"Essential \"\n",
    "                weight=int(weight[2].values)\n",
    "                if (weight==1):\n",
    "                    net.add_edge(str(inv_nodes_renamed[triad[i]]), str(inv_nodes_renamed[triad[j]]), color=color, width=size,title=isessential+\"Expression edge\"+value)\n",
    "                else:\n",
    "                    net.add_edge(str(inv_nodes_renamed[triad[i]]), str(inv_nodes_renamed[triad[j]]), color=color, width=size,title=+isessential+\"Suppression edge\"+value)\n",
    "    net.hrepulsion(node_distance=120, central_gravity=0.0, spring_length=100, spring_strength=0, damping=0.09)\n",
    "    net.show(\"data/graph.html\")"
   ]
  },
  {
   "cell_type": "code",
   "execution_count": 6,
   "id": "dc54a68b",
   "metadata": {},
   "outputs": [
    {
     "data": {
      "text/plain": [
       "{'6256,4023': 0,\n",
       " '51129,4023': 0.67,\n",
       " '6256,51129': 1.0,\n",
       " '6258,4023': 1.0,\n",
       " '6258,51129': 1.0,\n",
       " '6257,4023': 1.0,\n",
       " '6257,51129': 1.0,\n",
       " '5465,4023': 1.0,\n",
       " '5465,51129': 1.0,\n",
       " '5467,4023': 1.0,\n",
       " '5467,51129': 1.0,\n",
       " '5468,4023': 0,\n",
       " '5468,51129': 1.0}"
      ]
     },
     "execution_count": 6,
     "metadata": {},
     "output_type": "execute_result"
    }
   ],
   "source": [
    "signify_values"
   ]
  },
  {
   "cell_type": "code",
   "execution_count": 7,
   "id": "90d62107-f6ae-416e-9593-b184b0228def",
   "metadata": {},
   "outputs": [
    {
     "data": {
      "text/plain": [
       "{'6256,4023': [(0.751351887950401, 1)],\n",
       " '51129,4023': [(0.00958993913913588, 0),\n",
       "  (0.42793669112729465, -1),\n",
       "  (0.493972998423884, -1),\n",
       "  (0.4154314035435193, -1),\n",
       "  (0.47398475209831153, -1),\n",
       "  (-0.08148364214020982, 0)],\n",
       " '6256,51129': [(0.00958993913913588, 0)],\n",
       " '6258,4023': [(0.31271902702610976, -1)],\n",
       " '6258,51129': [(0.42793669112729465, -1)],\n",
       " '6257,4023': [(-0.18965576363770847, -1)],\n",
       " '6257,51129': [(0.493972998423884, -1)],\n",
       " '5465,4023': [(0.5002211698648119, -1)],\n",
       " '5465,51129': [(0.4154314035435193, -1)],\n",
       " '5467,4023': [(-0.11442379562472764, -1)],\n",
       " '5467,51129': [(0.47398475209831153, -1)],\n",
       " '5468,4023': [(0.99691599298314, 1)],\n",
       " '5468,51129': [(-0.08148364214020982, 0)]}"
      ]
     },
     "execution_count": 7,
     "metadata": {},
     "output_type": "execute_result"
    }
   ],
   "source": [
    "weighted_edges"
   ]
  },
  {
   "cell_type": "code",
   "execution_count": null,
   "id": "7d3b9f29-3418-46d3-9ec1-dd082587a389",
   "metadata": {},
   "outputs": [],
   "source": []
  }
 ],
 "metadata": {
  "kernelspec": {
   "display_name": "Python 3",
   "language": "python",
   "name": "python3"
  },
  "language_info": {
   "codemirror_mode": {
    "name": "ipython",
    "version": 3
   },
   "file_extension": ".py",
   "mimetype": "text/x-python",
   "name": "python",
   "nbconvert_exporter": "python",
   "pygments_lexer": "ipython3",
   "version": "3.8.8"
  }
 },
 "nbformat": 4,
 "nbformat_minor": 5
}
