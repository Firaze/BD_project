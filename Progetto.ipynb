{
 "cells": [
  {
   "cell_type": "code",
   "execution_count": 1,
   "id": "0c5bbd89",
   "metadata": {},
   "outputs": [
    {
     "data": {
      "application/vnd.jupyter.widget-view+json": {
       "model_id": "6acf55b02a064f1aad86034eb7ca20bc",
       "version_major": 2,
       "version_minor": 0
      },
      "text/plain": [
       "HTML(value='<style>.container { width:100% !important; }</style>')"
      ]
     },
     "metadata": {},
     "output_type": "display_data"
    }
   ],
   "source": [
    "from functions import *\n",
    "from ipywidgets import HBox, HTML, Dropdown, Label, Layout,Image\n",
    "import tkinter as tk\n",
    "from IPython.display import display, Markdown, clear_output, IFrame,Javascript\n",
    "from pyvis.network import Network\n",
    "pathways_name=pd.read_csv(\"data/pathways.tsv\", sep='\\t')[\"pathway_name\"]\n",
    "last_selection=pathways_name\n",
    "display(HTML(\"<style>.container { width:100% !important; }</style>\"))\n"
   ]
  },
  {
   "cell_type": "code",
   "execution_count": 2,
   "id": "3ff0e4fb",
   "metadata": {},
   "outputs": [
    {
     "data": {
      "application/vnd.jupyter.widget-view+json": {
       "model_id": "aef987d7812747cb8846dbaccfd7eef4",
       "version_major": 2,
       "version_minor": 0
      },
      "text/plain": [
       "HTML(value='<style>.left-spacing-class {margin-left: 20px; color:blac; margin-right:20px}</style>')"
      ]
     },
     "metadata": {},
     "output_type": "display_data"
    },
    {
     "data": {
      "application/vnd.jupyter.widget-view+json": {
       "model_id": "9105636f44d64cfe8ec888b3731547f7",
       "version_major": 2,
       "version_minor": 0
      },
      "text/plain": [
       "HBox(children=(Dropdown(description='Pathway:', index=25, options=('Oxidative phosphorylation', 'Synthesis and…"
      ]
     },
     "metadata": {},
     "output_type": "display_data"
    }
   ],
   "source": [
    "display(HTML(\"<style>.left-spacing-class {margin-left: 20px; color:blac; margin-right:20px}</style>\"))\n",
    "text=Label(value=\"\")\n",
    "text.add_class(\"left-spacing-class\")\n",
    "menu = Dropdown(\n",
    "       options=list(pathways_name.values),\n",
    "       value=list(pathways_name.values)[25],\n",
    "       description='Pathway:')\n",
    "sidebyside=HBox([menu, HTML('''<script> </script> <form action=\"javascript:IPython.notebook.execute_cells([2])\"><input type=\"submit\" id=\"toggleButton\" value=\"Run\"></form>'''),text])\n",
    "\n",
    "display(sidebyside)"
   ]
  },
  {
   "cell_type": "code",
   "execution_count": 5,
   "id": "c25623e8-fa3f-44ed-b7a8-c69fd36ea737",
   "metadata": {},
   "outputs": [
    {
     "data": {
      "text/html": [
       "\n",
       "        <iframe\n",
       "            width=\"100%\"\n",
       "            height=\"540px\"\n",
       "            src=\"graph.html\"\n",
       "            frameborder=\"0\"\n",
       "            allowfullscreen\n",
       "        ></iframe>\n",
       "        "
      ],
      "text/plain": [
       "<IPython.lib.display.IFrame at 0x25808530880>"
      ]
     },
     "execution_count": 5,
     "metadata": {},
     "output_type": "execute_result"
    }
   ],
   "source": [
    "skip_calcs=False\n",
    "pathway_edges=read_pathway(option)\n",
    "if (len(pathway_edges)==0):\n",
    "    #option=last_selection\n",
    "    skip_calcs=True\n",
    "    st.error(\"Edges not found, try another pathway!\")\n",
    "else:\n",
    "    skip_calcs=False\n",
    "    #last_selection=option\n",
    "    pathway_edges=read_pathway(option)\n",
    "    adj_matrix,nodes_renamed,inv_nodes_renamed=build_adj(pathway_edges)\n",
    "    G = nx.from_numpy_matrix(adj_matrix)\n",
    "    triad_cliques=get_triad(G)\n",
    "    weighted_edges=calculate_weighted_edges(triad_cliques, adj_matrix,inv_nodes_renamed)\n",
    "    to_remove=[]\n",
    "    signify_values={}\n",
    "    essential_edges=[]\n",
    "    for x in weighted_edges.items():\n",
    "        zeros=0\n",
    "        ones=0\n",
    "        minus=0\n",
    "        for z in x[1]:\n",
    "            if (z[1]==0):\n",
    "                zeros+=1\n",
    "            elif (z[1]==1):\n",
    "                ones+=1\n",
    "            else:\n",
    "                minus+=1\n",
    "        if (ones==0):\n",
    "            if (minus==0):\n",
    "                to_remove.append(x[0])\n",
    "            else:\n",
    "                m=(zeros+minus)/2\n",
    "                if ((minus+zeros)/(zeros*minus+1)>=((minus+zeros)/((m+1)*(m-1)+1))):\n",
    "                    to_remove.append(x[0])\n",
    "        else:\n",
    "            essential_edges.append(x[0])\n",
    "        if (ones==0):\n",
    "            signify_values[x[0]]=round((minus+zeros)/(zeros*minus+1),2)\n",
    "        else:\n",
    "            signify_values[x[0]]=0\n",
    "\n",
    "    relabel={}\n",
    "    for e,node in enumerate( G.nodes()):\n",
    "        relabel[e]=str(inv_nodes_renamed[node])\n",
    "    net=Network(height=\"825px\",notebook=True,directed=True,width=\"1800px\", bgcolor='#222222', font_color='white')\n",
    "    for i,node in relabel.items():\n",
    "        net.add_node(str(node))\n",
    "\n",
    "    for edge in pathway_edges.values:\n",
    "            if(edge[2]==-1):\n",
    "                net.add_edge(str(edge[0]), str(edge[1]), color=\"yellow\")\n",
    "            else:\n",
    "                net.add_edge(str(edge[0]), str(edge[1]))\n",
    "    for triad in triad_cliques:\n",
    "        for i,x in enumerate(triad):\n",
    "            for j,y in enumerate(triad):\n",
    "                value=\"\"\n",
    "                isessential=\"\"\n",
    "                weight=pathway_edges[(pathway_edges[0]==inv_nodes_renamed[triad[i]]) & (pathway_edges[1]==inv_nodes_renamed[triad[j]])]\n",
    "                if (weight.empty):\n",
    "                    continue\n",
    "                if ((str(inv_nodes_renamed[triad[i]])+\",\"+str(inv_nodes_renamed[triad[j]])) in to_remove) or ((str(inv_nodes_renamed[triad[j]])+\",\"+str(inv_nodes_renamed[triad[i]])) in to_remove):                    \n",
    "                    color=\"red\"\n",
    "                    size=10\n",
    "                    value+=\", significativity:  \"+str(signify_values[str(inv_nodes_renamed[triad[j]])+\",\"+str(inv_nodes_renamed[triad[i]])])\n",
    "                else:\n",
    "                    color=\"green\"\n",
    "                    size=3\n",
    "                    value+=\", significativity:  \"+str(signify_values[str(inv_nodes_renamed[triad[j]])+\",\"+str(inv_nodes_renamed[triad[i]])])\n",
    "                if ((str(inv_nodes_renamed[triad[i]])+\",\"+str(inv_nodes_renamed[triad[j]])) in essential_edges) or ((str(inv_nodes_renamed[triad[j]])+\",\"+str(inv_nodes_renamed[triad[i]])) in essential_edges):\n",
    "                    isessential=\"Essential \"\n",
    "                weight=int(weight[2].values)\n",
    "                if (weight==1):\n",
    "                    net.add_edge(str(inv_nodes_renamed[triad[i]]), str(inv_nodes_renamed[triad[j]]), color=color, width=size,title=isessential+\"Expression edge\"+value)\n",
    "                else:\n",
    "                    net.add_edge(str(inv_nodes_renamed[triad[i]]), str(inv_nodes_renamed[triad[j]]), color=color, width=size,title=+isessential+\"Suppression edge\"+value)\n",
    "    net.hrepulsion(node_distance=120, central_gravity=0.0, spring_length=100, spring_strength=0, damping=0.09)\n",
    "    net.show(\"data/graph.html\")"
   ]
  },
  {
   "cell_type": "code",
   "execution_count": 6,
   "id": "3d3ef4e2",
   "metadata": {},
   "outputs": [],
   "source": []
  },
  {
   "cell_type": "code",
   "execution_count": 7,
   "id": "4905c8a5",
   "metadata": {},
   "outputs": [
    {
     "data": {
      "text/plain": [
       "array([[[255,   0,   0],\n",
       "        [255,   0,   0],\n",
       "        [255,   0,   0],\n",
       "        ...,\n",
       "        [255,   0,   0],\n",
       "        [255,   0,   0],\n",
       "        [255,   0,   0]],\n",
       "\n",
       "       [[255,   0,   0],\n",
       "        [255,   0,   0],\n",
       "        [255,   0,   0],\n",
       "        ...,\n",
       "        [255,   0,   0],\n",
       "        [255,   0,   0],\n",
       "        [255,   0,   0]],\n",
       "\n",
       "       [[255,   0,   0],\n",
       "        [255,   0,   0],\n",
       "        [255,   0,   0],\n",
       "        ...,\n",
       "        [255,   0,   0],\n",
       "        [255,   0,   0],\n",
       "        [255,   0,   0]],\n",
       "\n",
       "       ...,\n",
       "\n",
       "       [[255,   0,   0],\n",
       "        [255,   0,   0],\n",
       "        [255,   0,   0],\n",
       "        ...,\n",
       "        [255,   0,   0],\n",
       "        [255,   0,   0],\n",
       "        [255,   0,   0]],\n",
       "\n",
       "       [[255,   0,   0],\n",
       "        [255,   0,   0],\n",
       "        [255,   0,   0],\n",
       "        ...,\n",
       "        [255,   0,   0],\n",
       "        [255,   0,   0],\n",
       "        [255,   0,   0]],\n",
       "\n",
       "       [[255,   0,   0],\n",
       "        [255,   0,   0],\n",
       "        [255,   0,   0],\n",
       "        ...,\n",
       "        [255,   0,   0],\n",
       "        [255,   0,   0],\n",
       "        [255,   0,   0]]], dtype=uint8)"
      ]
     },
     "execution_count": 7,
     "metadata": {},
     "output_type": "execute_result"
    }
   ],
   "source": [
    "data"
   ]
  },
  {
   "cell_type": "code",
   "execution_count": null,
   "id": "dc54a68b",
   "metadata": {},
   "outputs": [],
   "source": []
  }
 ],
 "metadata": {
  "kernelspec": {
   "display_name": "Python 3",
   "language": "python",
   "name": "python3"
  },
  "language_info": {
   "codemirror_mode": {
    "name": "ipython",
    "version": 3
   },
   "file_extension": ".py",
   "mimetype": "text/x-python",
   "name": "python",
   "nbconvert_exporter": "python",
   "pygments_lexer": "ipython3",
   "version": "3.8.8"
  }
 },
 "nbformat": 4,
 "nbformat_minor": 5
}
