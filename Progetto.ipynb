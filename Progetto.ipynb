{
 "cells": [
  {
   "cell_type": "code",
   "execution_count": 37,
   "id": "0c5bbd89",
   "metadata": {},
   "outputs": [
    {
     "data": {
      "application/vnd.jupyter.widget-view+json": {
       "model_id": "b04295bd7b6a463389a0b3e49e53b313",
       "version_major": 2,
       "version_minor": 0
      },
      "text/plain": [
       "HTML(value='<style>.container { width:100% !important; }</style>')"
      ]
     },
     "metadata": {},
     "output_type": "display_data"
    }
   ],
   "source": [
    "from functions import *\n",
    "from ipywidgets import HBox, HTML, Dropdown, Label, Layout,Image\n",
    "import tkinter as tk\n",
    "from IPython.display import display, Markdown, clear_output, IFrame,Javascript\n",
    "from pyvis.network import Network\n",
    "pathways_name=pd.read_csv(\"data/pathways.tsv\", sep='\\t')[\"pathway_name\"]\n",
    "last_selection=pathways_name\n",
    "display(HTML(\"<style>.container { width:100% !important; }</style>\"))\n"
   ]
  },
  {
   "cell_type": "code",
   "execution_count": 38,
   "id": "3ff0e4fb",
   "metadata": {},
   "outputs": [
    {
     "data": {
      "application/vnd.jupyter.widget-view+json": {
       "model_id": "58bcfe05613d4090b4d5f2f149f03db7",
       "version_major": 2,
       "version_minor": 0
      },
      "text/plain": [
       "HTML(value='<style>.left-spacing-class {margin-left: 20px; color:blac; margin-right:20px}</style>')"
      ]
     },
     "metadata": {},
     "output_type": "display_data"
    },
    {
     "data": {
      "application/vnd.jupyter.widget-view+json": {
       "model_id": "48fa61b7ac0e4b0b8002935c35e54ad3",
       "version_major": 2,
       "version_minor": 0
      },
      "text/plain": [
       "HBox(children=(Dropdown(description='Pathway:', index=25, options=('Oxidative phosphorylation', 'Synthesis and…"
      ]
     },
     "metadata": {},
     "output_type": "display_data"
    }
   ],
   "source": [
    "display(HTML(\"<style>.left-spacing-class {margin-left: 20px; color:blac; margin-right:20px}</style>\"))\n",
    "text=Label(value=\"\")\n",
    "text.add_class(\"left-spacing-class\")\n",
    "menu = Dropdown(\n",
    "       options=list(pathways_name.values),\n",
    "       value=list(pathways_name.values)[25],\n",
    "       description='Pathway:')\n",
    "sidebyside=HBox([menu, HTML('''<script> </script> <form action=\"javascript:IPython.notebook.execute_cells([2])\"><input type=\"submit\" id=\"toggleButton\" value=\"Run\"></form>'''),text])\n",
    "\n",
    "display(sidebyside)"
   ]
  },
  {
   "cell_type": "code",
   "execution_count": 48,
   "id": "c25623e8-fa3f-44ed-b7a8-c69fd36ea737",
   "metadata": {},
   "outputs": [
    {
     "name": "stdout",
     "output_type": "stream",
     "text": [
      "335\n",
      "6256\n",
      "6258\n",
      "6257\n",
      "5170\n",
      "5346\n",
      "51129\n",
      "5465\n",
      "5467\n",
      "5468\n",
      "9370\n",
      "3611\n",
      "3931\n",
      "1582\n",
      "1581\n",
      "23205\n",
      "1579\n",
      "126129\n",
      "3158\n",
      "1376\n",
      "3157\n",
      "1375\n",
      "7316\n",
      "51\n",
      "51129\n",
      "10062\n",
      "4023\n",
      "10580\n",
      "1593\n",
      "729359\n",
      "116519\n",
      "364\n",
      "2712\n",
      "1622\n",
      "123\n",
      "2710\n",
      "79966\n",
      "5346\n",
      "4973\n",
      "5105\n",
      "5106\n",
      "6319\n",
      "5360\n",
      "8310\n",
      "4199\n",
      "23305\n",
      "2170\n",
      "10999\n",
      "3611\n",
      "335\n",
      "336\n",
      "2168\n",
      "2167\n",
      "10873\n",
      "30\n",
      "8309\n",
      "51703\n",
      "2180\n",
      "33\n",
      "34\n",
      "6342\n",
      "9415\n",
      "376497\n",
      "440503\n",
      "1374\n",
      "9370\n",
      "5170\n",
      "2182\n",
      "81616\n",
      "7350\n",
      "2181\n",
      "1962\n",
      "345\n",
      "4312\n",
      "284541\n",
      "50943\n",
      "948\n",
      "6199\n",
      "6198\n",
      "5584\n",
      "5585\n",
      "5586\n",
      "3551\n",
      "23678\n",
      "5590\n",
      "1147\n",
      "29941\n",
      "10000\n",
      "10110\n",
      "207\n",
      "6446\n",
      "5578\n",
      "208\n",
      "3991\n",
      "92579\n",
      "57818\n",
      "2538\n",
      "2353\n",
      "79602\n",
      "51094\n"
     ]
    },
    {
     "ename": "AssertionError",
     "evalue": "non existent node '335'",
     "output_type": "error",
     "traceback": [
      "\u001b[1;31m---------------------------------------------------------------------------\u001b[0m",
      "\u001b[1;31mAssertionError\u001b[0m                            Traceback (most recent call last)",
      "\u001b[1;32m<ipython-input-48-c0d74832c080>\u001b[0m in \u001b[0;36m<module>\u001b[1;34m\u001b[0m\n\u001b[0;32m     62\u001b[0m             \u001b[0mnet\u001b[0m\u001b[1;33m.\u001b[0m\u001b[0madd_edge\u001b[0m\u001b[1;33m(\u001b[0m\u001b[0mstr\u001b[0m\u001b[1;33m(\u001b[0m\u001b[0medge\u001b[0m\u001b[1;33m[\u001b[0m\u001b[1;36m0\u001b[0m\u001b[1;33m]\u001b[0m\u001b[1;33m)\u001b[0m\u001b[1;33m,\u001b[0m \u001b[0mstr\u001b[0m\u001b[1;33m(\u001b[0m\u001b[0medge\u001b[0m\u001b[1;33m[\u001b[0m\u001b[1;36m1\u001b[0m\u001b[1;33m]\u001b[0m\u001b[1;33m)\u001b[0m\u001b[1;33m,\u001b[0m \u001b[0mcolor\u001b[0m\u001b[1;33m=\u001b[0m\u001b[1;34m\"yellow\"\u001b[0m\u001b[1;33m)\u001b[0m\u001b[1;33m\u001b[0m\u001b[1;33m\u001b[0m\u001b[0m\n\u001b[0;32m     63\u001b[0m         \u001b[1;32melse\u001b[0m\u001b[1;33m:\u001b[0m\u001b[1;33m\u001b[0m\u001b[1;33m\u001b[0m\u001b[0m\n\u001b[1;32m---> 64\u001b[1;33m             \u001b[0mnet\u001b[0m\u001b[1;33m.\u001b[0m\u001b[0madd_edge\u001b[0m\u001b[1;33m(\u001b[0m\u001b[0mstr\u001b[0m\u001b[1;33m(\u001b[0m\u001b[0medge\u001b[0m\u001b[1;33m[\u001b[0m\u001b[1;36m0\u001b[0m\u001b[1;33m]\u001b[0m\u001b[1;33m)\u001b[0m\u001b[1;33m,\u001b[0m \u001b[0mstr\u001b[0m\u001b[1;33m(\u001b[0m\u001b[0medge\u001b[0m\u001b[1;33m[\u001b[0m\u001b[1;36m1\u001b[0m\u001b[1;33m]\u001b[0m\u001b[1;33m)\u001b[0m\u001b[1;33m)\u001b[0m\u001b[1;33m\u001b[0m\u001b[1;33m\u001b[0m\u001b[0m\n\u001b[0m\u001b[0;32m     65\u001b[0m \u001b[1;32mfor\u001b[0m \u001b[0mtriad\u001b[0m \u001b[1;32min\u001b[0m \u001b[0mtriad_cliques\u001b[0m\u001b[1;33m:\u001b[0m\u001b[1;33m\u001b[0m\u001b[1;33m\u001b[0m\u001b[0m\n\u001b[0;32m     66\u001b[0m     \u001b[1;32mfor\u001b[0m \u001b[0mi\u001b[0m\u001b[1;33m,\u001b[0m\u001b[0mx\u001b[0m \u001b[1;32min\u001b[0m \u001b[0menumerate\u001b[0m\u001b[1;33m(\u001b[0m\u001b[0mtriad\u001b[0m\u001b[1;33m)\u001b[0m\u001b[1;33m:\u001b[0m\u001b[1;33m\u001b[0m\u001b[1;33m\u001b[0m\u001b[0m\n",
      "\u001b[1;32m~\\anaconda3\\lib\\site-packages\\pyvis\\network.py\u001b[0m in \u001b[0;36madd_edge\u001b[1;34m(self, source, to, **options)\u001b[0m\n\u001b[0;32m    334\u001b[0m \u001b[1;33m\u001b[0m\u001b[0m\n\u001b[0;32m    335\u001b[0m         \u001b[1;31m# verify nodes exists\u001b[0m\u001b[1;33m\u001b[0m\u001b[1;33m\u001b[0m\u001b[1;33m\u001b[0m\u001b[0m\n\u001b[1;32m--> 336\u001b[1;33m         \u001b[1;32massert\u001b[0m \u001b[0msource\u001b[0m \u001b[1;32min\u001b[0m \u001b[0mself\u001b[0m\u001b[1;33m.\u001b[0m\u001b[0mget_nodes\u001b[0m\u001b[1;33m(\u001b[0m\u001b[1;33m)\u001b[0m\u001b[1;33m,\u001b[0m\u001b[0;31m \u001b[0m\u001b[0;31m\\\u001b[0m\u001b[1;33m\u001b[0m\u001b[1;33m\u001b[0m\u001b[0m\n\u001b[0m\u001b[0;32m    337\u001b[0m             \u001b[1;34m\"non existent node '\"\u001b[0m \u001b[1;33m+\u001b[0m \u001b[0mstr\u001b[0m\u001b[1;33m(\u001b[0m\u001b[0msource\u001b[0m\u001b[1;33m)\u001b[0m \u001b[1;33m+\u001b[0m \u001b[1;34m\"'\"\u001b[0m\u001b[1;33m\u001b[0m\u001b[1;33m\u001b[0m\u001b[0m\n\u001b[0;32m    338\u001b[0m \u001b[1;33m\u001b[0m\u001b[0m\n",
      "\u001b[1;31mAssertionError\u001b[0m: non existent node '335'"
     ]
    }
   ],
   "source": [
    "skip_calcs=False\n",
    "selection=menu.value\n",
    "normal_edges=False\n",
    "pathway_edges=read_pathway(selection)\n",
    "if (len(pathway_edges)==0):\n",
    "    selection=last_selection\n",
    "    skip_calcs=True\n",
    "    st.error(\"Edges not found, try another pathway!\")\n",
    "else:\n",
    "    skip_calcs=False\n",
    "    last_selection=selection\n",
    "    pathway_edges=read_pathway(selection)\n",
    "    adj_matrix,nodes_renamed,inv_nodes_renamed=build_adj(pathway_edges)\n",
    "    G = nx.from_numpy_matrix(adj_matrix)\n",
    "    triad_cliques=get_triad(G)\n",
    "    weighted_edges,triad_cliques=calculate_weighted_edges(triad_cliques, adj_matrix,inv_nodes_renamed)\n",
    "    to_remove=[]\n",
    "    signify_values={}\n",
    "    essential_edges=[]\n",
    "    for x in weighted_edges.items():\n",
    "        zeros=0\n",
    "        ones=0\n",
    "        minus=0\n",
    "        for z in x[1]:\n",
    "            if (z[1]==0):\n",
    "                zeros+=1\n",
    "            elif (z[1]==1):\n",
    "                ones+=1\n",
    "            else:\n",
    "                minus+=1\n",
    "        if (ones==0):\n",
    "            if (minus==0):\n",
    "                to_remove.append(x[0])\n",
    "            else:\n",
    "                m=(zeros+minus)/2\n",
    "                if ((minus+zeros)/(zeros*minus+1)*zeros/(minus+1)>((minus+zeros)/(m*m+1))*zeros/(minus+1)):\n",
    "                    to_remove.append(x[0])\n",
    "        else:\n",
    "            essential_edges.append(x[0])\n",
    "        if (ones==0):\n",
    "            signify_values[x[0]]=round((minus+zeros)/(zeros*minus+1)*(zeros)/(minus+1),3)\n",
    "        else:\n",
    "            signify_values[x[0]]=0\n",
    "\n",
    "    relabel={}\n",
    "    for e,node in enumerate( G.nodes()):\n",
    "        relabel[e]=str(inv_nodes_renamed[node])\n",
    "net=Network(height=\"825px\",notebook=True,directed=True,width=\"1800px\", bgcolor='#222222', font_color='white')\n",
    "triad_nodes=set()\n",
    "_=[triad_nodes.add(inv_nodes_renamed[y]) for x in triad_cliques for y in x]\n",
    "triad_nodes=list(triad_nodes)\n",
    "for i,node in relabel.items():\n",
    "    if normal_edges:\n",
    "        net.add_node(str(node))\n",
    "    elif node in triad_nodes:\n",
    "        print(node)\n",
    "        net.add_node(str(node))\n",
    "    print(type(node)\n",
    "\n",
    "for edge in pathway_edges.values:\n",
    "        if(edge[2]==-1):\n",
    "            net.add_edge(str(edge[0]), str(edge[1]), color=\"yellow\")\n",
    "        else:\n",
    "            net.add_edge(str(edge[0]), str(edge[1]))\n",
    "for triad in triad_cliques:\n",
    "    for i,x in enumerate(triad):\n",
    "        for j,y in enumerate(triad):\n",
    "            value=\"\"\n",
    "            isessential=\"\"\n",
    "            tmp=pathway_edges[(pathway_edges[0]==inv_nodes_renamed[triad[i]]) & (pathway_edges[1]==inv_nodes_renamed[triad[j]])].values\n",
    "           # if (str(start_node)+\",\"+str(to_node) not in signify_values):\n",
    "           #     continue\n",
    "            if (len(tmp)>0):\n",
    "                start_node,to_node,weight=tmp[0]\n",
    "            else:\n",
    "                continue\n",
    "            if ((str(start_node)+\",\"+str(to_node)) in to_remove):  \n",
    "                color=\"red\"\n",
    "                size=10\n",
    "                value+=\", significativity:  \"+str(signify_values[str(start_node)+\",\"+str(to_node)])\n",
    "            else:\n",
    "                color=\"green\"\n",
    "                size=3\n",
    "                value+=\", significativity:  \"+str(signify_values[str(start_node)+\",\"+str(to_node)])\n",
    "            if ((str(start_node)+\",\"+str(to_node)) in essential_edges):   \n",
    "                isessential=\"Essential \"\n",
    "            if (weight==1):\n",
    "                net.add_edge(str(start_node), str(to_node), color=color, width=size,title=isessential+\"Expression edge\"+value)\n",
    "            else:\n",
    "                net.add_edge(str(start_node), str(to_node), color=color, width=size,title=isessential+\"Suppression edge\"+value)\n",
    "net.hrepulsion(node_distance=120, central_gravity=0.0, spring_length=100, spring_strength=0, damping=0.09)\n",
    "net.show(\"data/graph.html\")"
   ]
  },
  {
   "cell_type": "code",
   "execution_count": 17,
   "id": "7d3b9f29-3418-46d3-9ec1-dd082587a389",
   "metadata": {},
   "outputs": [
    {
     "ename": "KeyError",
     "evalue": "'6494,5908'",
     "output_type": "error",
     "traceback": [
      "\u001b[1;31m---------------------------------------------------------------------------\u001b[0m",
      "\u001b[1;31mKeyError\u001b[0m                                  Traceback (most recent call last)",
      "\u001b[1;32m<ipython-input-17-96370e497e59>\u001b[0m in \u001b[0;36m<module>\u001b[1;34m\u001b[0m\n\u001b[1;32m----> 1\u001b[1;33m \u001b[0mweighted_edges\u001b[0m\u001b[1;33m[\u001b[0m\u001b[1;34m'6494,5908'\u001b[0m\u001b[1;33m]\u001b[0m\u001b[1;33m\u001b[0m\u001b[1;33m\u001b[0m\u001b[0m\n\u001b[0m",
      "\u001b[1;31mKeyError\u001b[0m: '6494,5908'"
     ]
    }
   ],
   "source": [
    "weighted_edges['6494,5908']"
   ]
  },
  {
   "cell_type": "code",
   "execution_count": 19,
   "id": "4a2383a1",
   "metadata": {},
   "outputs": [
    {
     "data": {
      "text/plain": [
       "155"
      ]
     },
     "execution_count": 19,
     "metadata": {},
     "output_type": "execute_result"
    }
   ],
   "source": [
    "len([c for c in nx.cycle_basis(G) if len(c)==3])"
   ]
  },
  {
   "cell_type": "code",
   "execution_count": 44,
   "id": "ab96156e",
   "metadata": {},
   "outputs": [
    {
     "data": {
      "text/plain": [
       "True"
      ]
     },
     "execution_count": 44,
     "metadata": {},
     "output_type": "execute_result"
    }
   ],
   "source": [
    "5465 in triad_nodes"
   ]
  },
  {
   "cell_type": "code",
   "execution_count": 26,
   "id": "682be2e0",
   "metadata": {},
   "outputs": [
    {
     "name": "stdout",
     "output_type": "stream",
     "text": [
      "545 2175 55215\n",
      "84126 2175 55215\n",
      "545 2189 55215\n",
      "545 57697 55215\n",
      "[26, 29, 25]\n"
     ]
    }
   ],
   "source": [
    "weighted_edges={}\n",
    "first_label=\"\"\n",
    "second_label=\"\"\n",
    "third_label=\"\"\n",
    "mod = \"\"\" \n",
    "          y ~ x1 + x2\n",
    "          \"\"\"\n",
    "new_triad_cliques=[]\n",
    "for triad in range(len(triad_cliques)):\n",
    "    triad_matrix=np.zeros((3,3))\n",
    "    for i,x in enumerate(triad_cliques[triad]):\n",
    "        for j,y in enumerate(triad_cliques[triad]):\n",
    "            triad_matrix[i][j]=adj_matrix[x][y]\n",
    "  #  if list(triad_matrix[0])== [0, 1, 1]:\n",
    "\n",
    "    zeros_count=np.array([len(np.where(x==0)[0]) for i,x in enumerate(triad_matrix) ])\n",
    "    if (sum(zeros_count)==6):\n",
    "        new_triad_cliques.append(triad_cliques[triad])\n",
    "    else:\n",
    "        continue\n",
    "    first_index=int(np.where(zeros_count==1)[0])\n",
    "    second_index=int(np.where(zeros_count==2)[0])\n",
    "    third_index=int(np.where(zeros_count==3)[0])\n",
    "    first_label=str(inv_nodes_renamed[triad_cliques[triad][first_index]])\n",
    "    second_label=str(inv_nodes_renamed[triad_cliques[triad][second_index]])\n",
    "    third_label=str(inv_nodes_renamed[triad_cliques[triad][third_index]])\n",
    "    first_gene=(list(esets.loc[first_label,:].values),0)\n",
    "    print(first_label,second_label,third_label)\n",
    "    second_gene=(list(esets.loc[second_label,:].values),1)\n",
    "    third_gene=(list(esets.loc[third_label,:].values),2)\n",
    "    y=third_gene\n",
    "    x1=first_gene\n",
    "    x2=second_gene\n",
    "    to_df={\"y\":y[0],\"x1\":x1[0],\"x2\":x2[0]}\n",
    "    data=pd.DataFrame(to_df).replace(np.inf, np.nan).replace(-np.inf, np.nan).dropna()\n",
    "    m = Model(mod)\n",
    "    r = m.fit(data)\n",
    "    fac_sum=np.abs(r.x[0]+r.x[1])\n",
    "    if (np.abs(r.x[0])<fac_sum*0.1):\n",
    "        if (first_label+\",\"+third_label in weighted_edges):\n",
    "            weighted_edges[first_label+\",\"+third_label].append((r.x[0],0))\n",
    "\n",
    "        else:\n",
    "            weighted_edges[first_label+\",\"+third_label]=[(r.x[0],0)]\n",
    "        if (second_label+\",\"+third_label in weighted_edges) :\n",
    "            weighted_edges[second_label+\",\"+third_label].append((r.x[1],1))\n",
    "        else:\n",
    "            weighted_edges[second_label+\",\"+third_label]=[(r.x[1],1)]\n",
    "\n",
    "        if(first_label+\",\"+second_label in weighted_edges) :\n",
    "            weighted_edges[first_label+\",\"+second_label].append((r.x[1],1))\n",
    "        else:\n",
    "            weighted_edges[first_label+\",\"+second_label]=[(r.x[1],1)]\n",
    "    elif(np.abs(r.x[1])<fac_sum*0.1):\n",
    "        if (first_label+\",\"+third_label in weighted_edges):\n",
    "            weighted_edges[first_label+\",\"+third_label].append((r.x[0],1))\n",
    "\n",
    "        else:\n",
    "            weighted_edges[first_label+\",\"+third_label]=[(r.x[0],1)]\n",
    "        if (second_label+\",\"+third_label in weighted_edges):  \n",
    "            weighted_edges[second_label+\",\"+third_label].append((r.x[1],0))\n",
    "        else:\n",
    "            weighted_edges[second_label+\",\"+third_label]=[(r.x[1],0)]\n",
    "        if(first_label+\",\"+second_label in weighted_edges) :\n",
    "            weighted_edges[first_label+\",\"+second_label].append((r.x[1],0))\n",
    "        else:\n",
    "            weighted_edges[first_label+\",\"+second_label]=[(r.x[1],0)]\n",
    "    else:\n",
    "        if (first_label+\",\"+third_label in weighted_edges):\n",
    "            weighted_edges[first_label+\",\"+third_label].append((r.x[0],-1))\n",
    "\n",
    "        else:\n",
    "            weighted_edges[first_label+\",\"+third_label]=[(r.x[0],-1)]\n",
    "        if (second_label+\",\"+third_label in weighted_edges):  \n",
    "            weighted_edges[second_label+\",\"+third_label].append((r.x[1],-1))\n",
    "        http://localhost:8888/notebooks/Universit%C3%A0/BD/BD_project2/Progetto.ipynb#else:\n",
    "            weighted_edges[second_label+\",\"+third_label]=[(r.x[1],-1)]\n",
    "        if(first_label+\",\"+second_label in weighted_edges) :\n",
    "            weighted_edges[first_label+\",\"+second_label].append((r.x[1],-1))\n",
    "        else:\n",
    "            weighted_edges[first_label+\",\"+second_label]=[(r.x[1],-1)]\n",
    "print(new_triad_cliques[0])"
   ]
  },
  {
   "cell_type": "code",
   "execution_count": 7,
   "id": "94ad91d2",
   "metadata": {},
   "outputs": [
    {
     "data": {
      "text/plain": [
       "[[24, 26, 1]]"
      ]
     },
     "execution_count": 7,
     "metadata": {},
     "output_type": "execute_result"
    }
   ],
   "source": [
    "triad_cliques"
   ]
  },
  {
   "cell_type": "code",
   "execution_count": 12,
   "id": "5e96527c",
   "metadata": {},
   "outputs": [
    {
     "data": {
      "text/plain": [
       "array([[0., 0., 0.],\n",
       "       [1., 0., 1.],\n",
       "       [1., 1., 0.]])"
      ]
     },
     "execution_count": 12,
     "metadata": {},
     "output_type": "execute_result"
    }
   ],
   "source": [
    "triad_matrix"
   ]
  },
  {
   "cell_type": "code",
   "execution_count": 53,
   "id": "396bdfe6",
   "metadata": {},
   "outputs": [
    {
     "data": {
      "text/plain": [
       "(array([0, 1, 1, 1, 2, 2], dtype=int64),\n",
       " array([0, 0, 1, 2, 0, 2], dtype=int64))"
      ]
     },
     "execution_count": 53,
     "metadata": {},
     "output_type": "execute_result"
    }
   ],
   "source": [
    "[np.where(x[i]==0) for i,x in enumerate() ]"
   ]
  },
  {
   "cell_type": "code",
   "execution_count": 58,
   "id": "aeabf8cc",
   "metadata": {},
   "outputs": [
    {
     "data": {
      "text/plain": [
       "[1, 3, 2]"
      ]
     },
     "execution_count": 58,
     "metadata": {},
     "output_type": "execute_result"
    }
   ],
   "source": [
    "[len(np.where(x==0)[0]) for i,x in enumerate(triad_matrix) ]"
   ]
  },
  {
   "cell_type": "code",
   "execution_count": 63,
   "id": "b42efc8d",
   "metadata": {},
   "outputs": [
    {
     "data": {
      "text/plain": [
       "2"
      ]
     },
     "execution_count": 63,
     "metadata": {},
     "output_type": "execute_result"
    }
   ],
   "source": [
    "first=int(np.where(np.array([len(np.where(x==0)[0]) for i,x in enumerate(triad_matrix) ])==2)[0])\n",
    "first"
   ]
  },
  {
   "cell_type": "code",
   "execution_count": 56,
   "id": "0e55f667",
   "metadata": {},
   "outputs": [
    {
     "name": "stdout",
     "output_type": "stream",
     "text": [
      "[0. 1. 1.]\n",
      "[0. 0. 0.]\n",
      "[ 0. -1.  0.]\n"
     ]
    }
   ],
   "source": [
    "for x in triad_matrix:\n",
    "    print(x)"
   ]
  },
  {
   "cell_type": "code",
   "execution_count": 46,
   "id": "e4358ea1",
   "metadata": {},
   "outputs": [
    {
     "data": {
      "text/plain": [
       "-1.0"
      ]
     },
     "execution_count": 46,
     "metadata": {},
     "output_type": "execute_result"
    }
   ],
   "source": [
    "adj_matrix[27][26]"
   ]
  },
  {
   "cell_type": "code",
   "execution_count": 27,
   "id": "6671fe56",
   "metadata": {},
   "outputs": [
    {
     "data": {
      "text/plain": [
       "26"
      ]
     },
     "execution_count": 27,
     "metadata": {},
     "output_type": "execute_result"
    }
   ],
   "source": [
    "nodes_renamed[4023]"
   ]
  },
  {
   "cell_type": "code",
   "execution_count": 45,
   "id": "8fe3baba",
   "metadata": {},
   "outputs": [
    {
     "name": "stdout",
     "output_type": "stream",
     "text": [
      "9894 545\n",
      "84126 55215\n",
      "84126 57697\n",
      "84126 2189\n",
      "84126 2175\n",
      "7398 55120\n",
      "91442 55215\n",
      "91442 2177\n",
      "79728 5889\n",
      "545 672\n",
      "545 55215\n",
      "545 7157\n",
      "545 57697\n",
      "545 2189\n",
      "545 1111\n",
      "545 2175\n",
      "545 11200\n",
      "545 8878\n",
      "675 5888\n",
      "675 5889\n",
      "378708 55215\n",
      "378708 2177\n",
      "201254 55215\n",
      "201254 2177\n",
      "57697 55215\n",
      "57697 2177\n",
      "22909 5395\n",
      "22909 4292\n",
      "57599 55120\n",
      "55120 55215\n",
      "55120 2177\n",
      "3280 2177\n",
      "3280 55215\n",
      "83990 5395\n",
      "83990 4292\n",
      "100526739 55215\n",
      "100526739 2177\n",
      "2177 675\n",
      "2177 22909\n",
      "2176 55215\n",
      "2176 2177\n",
      "2175 55215\n",
      "2175 2177\n",
      "29089 55215\n",
      "29089 2177\n",
      "2188 55215\n",
      "2188 2177\n",
      "2187 55215\n",
      "2187 2177\n",
      "2178 55215\n",
      "2178 2177\n",
      "2189 55215\n",
      "2189 2177\n",
      "80233 55215\n",
      "80233 2177\n"
     ]
    }
   ],
   "source": [
    "pathway_edges_0=pathway_edges[0].unique()\n",
    "pathway_edges_1=pathway_edges[1].unique()\n",
    "nodes=list(np.hstack((pathway_edges_0,pathway_edges_1)))\n",
    "nodes_renamed={}\n",
    "inv_nodes_renamed={}\n",
    "for e,x in enumerate(nodes):\n",
    "    nodes_renamed[x]=e\n",
    "    inv_nodes_renamed[e]=x\n",
    "nodes=len(nodes)\n",
    "adj_matrix=np.zeros((nodes,nodes))\n",
    "for x in pathway_edges.values:\n",
    "    print(x[0],x[1])\n",
    "    adj_matrix[nodes_renamed[x[0]]][nodes_renamed[x[1]]]=x[2]"
   ]
  },
  {
   "cell_type": "code",
   "execution_count": 22,
   "id": "d103ed82",
   "metadata": {},
   "outputs": [],
   "source": [
    "for x in triad_cliques:\n",
    "    for y in x:\n",
    "        triad_nodes.add(y)"
   ]
  },
  {
   "cell_type": "code",
   "execution_count": 24,
   "id": "b790e23a",
   "metadata": {},
   "outputs": [
    {
     "data": {
      "text/plain": [
       "[['a', 'p', 'p', 'l', 'e'],\n",
       " ['b', 'a', 'n', 'a', 'n', 'a'],\n",
       " ['p', 'e', 'a', 'r'],\n",
       " ['t', 'h', 'e'],\n",
       " ['h', 'e', 'l', 'l', 'o']]"
      ]
     },
     "execution_count": 24,
     "metadata": {},
     "output_type": "execute_result"
    }
   ],
   "source": [
    "[[ch for ch in word] for word in (\"apple\", \"banana\", \"pear\", \"the\", \"hello\")]"
   ]
  },
  {
   "cell_type": "code",
   "execution_count": null,
   "id": "92909e01",
   "metadata": {},
   "outputs": [],
   "source": []
  }
 ],
 "metadata": {
  "kernelspec": {
   "display_name": "Python 3",
   "language": "python",
   "name": "python3"
  },
  "language_info": {
   "codemirror_mode": {
    "name": "ipython",
    "version": 3
   },
   "file_extension": ".py",
   "mimetype": "text/x-python",
   "name": "python",
   "nbconvert_exporter": "python",
   "pygments_lexer": "ipython3",
   "version": "3.8.8"
  }
 },
 "nbformat": 4,
 "nbformat_minor": 5
}
